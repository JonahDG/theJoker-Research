{
 "cells": [
  {
   "cell_type": "code",
   "execution_count": 1,
   "metadata": {
    "colab": {
     "base_uri": "https://localhost:8080/"
    },
    "id": "N5p0ysROxwjH",
    "outputId": "b67ac7e7-83e2-435f-a70d-82866a8c5f8f"
   },
   "outputs": [],
   "source": [
    "# imports\n",
    "import astropy as ap\n",
    "from astropy.utils import decorators\n",
    "from astropy.io import ascii\n",
    "from astropy.io import fits\n",
    "from astropy import units as u\n",
    "import astropy.table as at\n",
    "from astropy.time import Time\n",
    "import astropy.coordinates as coords \n",
    "import matplotlib.pyplot as plt\n",
    "import pandas as pd \n",
    "import numpy as np\n",
    "import lightkurve as lk\n",
    "from fpdf import FPDF\n",
    "import thejoker as tj\n",
    "from astropy.timeseries import LombScargle"
   ]
  },
  {
   "cell_type": "code",
   "execution_count": 2,
   "metadata": {
    "id": "M88ZKo_g3ERB"
   },
   "outputs": [],
   "source": [
    "def getStarData(apogeeFileName,tessFileName,binariesFile):\n",
    "  # APOGEE Visits Data\n",
    "  apogeeVisits=at.Table.read(apogeeFileName) # import file\n",
    "  # Binary Catalog\n",
    "  binaries=at.QTable.read(binariesFile) # import file\n",
    "  # Tess Data\n",
    "  tessData=at.QTable.read(tessFileName) # import file\n",
    "  tessData=tessData[tessData['separation']<2.*u.arcsec] # separation Filter\n",
    "  # join tables\n",
    "  sources=at.join(binaries,tessData,keys='APOGEE_ID')\n",
    "  sources=sources[0:5] # Limits stars for testing .py version will run all stars\n",
    "  return apogeeVisits, sources\n"
   ]
  },
  {
   "cell_type": "code",
   "execution_count": 3,
   "metadata": {
    "id": "jJj_PqyV4-Fo"
   },
   "outputs": [],
   "source": [
    "def getJokerRVData(allVisits,sources):\n",
    "  data=[]\n",
    "  for row in sources:\n",
    "    visits=allVisits[allVisits['APOGEE_ID']==row['APOGEE_ID']]\n",
    "    datum=tj.RVData(Time(visits['JD'],format='jd'),\n",
    "                    rv=visits['VHELIO']*u.km/u.s,\n",
    "                    rv_err=visits['VRELERR']*u.km/u.s)\n",
    "    data.append(datum)\n",
    "  return data"
   ]
  },
  {
   "cell_type": "code",
   "execution_count": 4,
   "metadata": {
    "id": "5Yzvejj7dY0m"
   },
   "outputs": [],
   "source": [
    "def getLightCurveData(sources):\n",
    "  ticList=[]\n",
    "  timeList=[]\n",
    "  fluxList=[]\n",
    "  fluxErrList=[]\n",
    "  for tic in sources['TICID']:\n",
    "    ticStr='TIC'+str(tic)\n",
    "    ticList.append(ticStr)\n",
    "    print(ticStr)\n",
    "    try:\n",
    "      lcCollection=lk.search_lightcurve(target=ticStr,mission='TESS').download_all()\n",
    "      lcStitch=lcCollection.stitch()\n",
    "      time=lcStitch.time.value\n",
    "      flux=1e3*(lcStitch.flux-1)\n",
    "      fluxErr=1e3*(lcStitch.flux_err)\n",
    "      time=np.ascontiguousarray(time)\n",
    "      flux=np.ascontiguousarray(flux,dtype=np.float64)\n",
    "      timeList.append(time)\n",
    "      fluxList.append(flux)\n",
    "      fluxErrList.append(fluxErr)\n",
    "    except: #still having that weird bug with lightkurve hopefully this works as a temporary fix\n",
    "      print('Probably MergeConflictError and/or TableMergeError')\n",
    "      timeList.append([])\n",
    "      fluxList.append([])\n",
    "      fluxErrList.append([])\n",
    "      pass\n",
    "    lcDataTable=at.QTable([ticList,timeList,fluxList,fluxErrList],names=('TICID',\n",
    "                                                                       'Time',\n",
    "                                                                       'Flux',\n",
    "                                                                       'Flux_err'))\n",
    "  return lcDataTable"
   ]
  },
  {
   "cell_type": "code",
   "execution_count": 5,
   "metadata": {
    "id": "zu5r4eLQ9Tj4"
   },
   "outputs": [],
   "source": [
    "def getLsPeriodogram(sources):\n",
    "  freqList=[]\n",
    "  powList=[]\n",
    "  lcData=getLightCurveData(sources)\n",
    "  for i in range(len(sources['MAP_P'])):\n",
    "    period=int(sources[i]['MAP_P']/u.d)\n",
    "    timeViaLC=lcData[i]['Time']\n",
    "    fluxViaLC=lcData[i]['Flux']\n",
    "    freq,pow=LombScargle(timeViaLC,fluxViaLC).autopower(minimum_frequency=(.1/period),maximum_frequency=(10./period))\n",
    "    freqList.append(freq)\n",
    "    powList.append(pow)\n",
    "  periodogramDataTable=at.QTable([freqList,powList],names=('Frequency','Power'))\n",
    "  return periodogramDataTable\n",
    "    \n"
   ]
  },
  {
   "cell_type": "code",
   "execution_count": 6,
   "metadata": {
    "id": "C9HR9d6jl1rR"
   },
   "outputs": [],
   "source": [
    "def getPlots(sources,jData,periodogram,joker,prior_sample):\n",
    "  pdf=FPDF(unit='in',format=[8.5,11])\n",
    "  for i in range(len(sources['APOGEE_ID'])):\n",
    "    # Titles\n",
    "    supTitle='APOGEE ID: '+str(sources[i]['APOGEE_ID']+' | TIC ID: TIC'+str(sources[i]['TICID']))\n",
    "    plot1Title='Eccentricity vs Period'\n",
    "    plot2Title='Lomb Scargle Periodogram'\n",
    "    # Figure Creation\n",
    "    fig,(ax1,ax2)=plt.subplots(nrows=2,ncols=1,figsize=(20,10),facecolor='w')\n",
    "    fig.suptitle(supTitle)\n",
    "    # plot 1\n",
    "    sample=joker.rejection_sample(jData[i],prior_sample)\n",
    "    ax1.plot(sample['P'],sample['e'],'k.')\n",
    "    ax1.set_xlabel('Period (d)')\n",
    "    ax1.set_ylabel('Eccentricity')\n",
    "    ax1.set_title(plot1Title)\n",
    "    # Plot 2\n",
    "    freq=periodogram[i]['Frequency']\n",
    "    pow=periodogram[i]['Power']\n",
    "    ax2.plot(freq,pow)\n",
    "    ax2.set_xlabel('Frequency (1/d)')\n",
    "    ax2.set_ylabel('Power')\n",
    "    ax2.set_title(plot2Title)\n",
    "\n",
    "    # save figure\n",
    "    pngPath='/Plots/PNGs/NotebookPeriodogram_EccenPeriod_'+str(sources[i]['APOGEE_ID'])+'.png'\n",
    "    fig.savefig(pngPath,dpi=150)\n",
    "    pdf.add_page()\n",
    "    pdf.image(pngPath,w=8,h=9.6)\n",
    "    print(supTitle+'DONE')\n",
    "  pdf.output('Plots/PDFs/NotebookAll_Periodogram_EccenPeriod_Plots.pdf','F')\n",
    "  print('PLOTS SAVED AS PDF')"
   ]
  },
  {
   "cell_type": "code",
   "execution_count": 18,
   "metadata": {
    "colab": {
     "base_uri": "https://localhost:8080/"
    },
    "id": "wKoquywN46FU",
    "outputId": "36f3f01a-7697-4345-b565-4d2041191c03"
   },
   "outputs": [
    {
     "ename": "FileNotFoundError",
     "evalue": "[Errno 2] No such file or directory: 'Desktop/theJoker-Research/Data/allVisit-r12-l33.fits'",
     "output_type": "error",
     "traceback": [
      "\u001b[0;31m---------------------------------------------------------------------------\u001b[0m",
      "\u001b[0;31mFileNotFoundError\u001b[0m                         Traceback (most recent call last)",
      "\u001b[0;32m/var/folders/gp/tcqhw2_d0pd5bc11n74f4whw0000gn/T/ipykernel_27004/247277410.py\u001b[0m in \u001b[0;36m<module>\u001b[0;34m\u001b[0m\n\u001b[1;32m      2\u001b[0m \u001b[0mtessFile\u001b[0m\u001b[0;34m=\u001b[0m\u001b[0;34m'theJoker-Research/Data/allStarLite-r12-l33-tess_2min-max_20arcsec-xm.fits'\u001b[0m\u001b[0;34m\u001b[0m\u001b[0;34m\u001b[0m\u001b[0m\n\u001b[1;32m      3\u001b[0m \u001b[0mbinaryMetadataFile\u001b[0m\u001b[0;34m=\u001b[0m\u001b[0;34m'theJoker-Research/Data/allStarLite-metadata.fits'\u001b[0m\u001b[0;34m\u001b[0m\u001b[0;34m\u001b[0m\u001b[0m\n\u001b[0;32m----> 4\u001b[0;31m \u001b[0mapogeeData\u001b[0m\u001b[0;34m,\u001b[0m\u001b[0msourceData\u001b[0m\u001b[0;34m=\u001b[0m\u001b[0mgetStarData\u001b[0m\u001b[0;34m(\u001b[0m\u001b[0mapogeeFile\u001b[0m\u001b[0;34m,\u001b[0m\u001b[0mtessFile\u001b[0m\u001b[0;34m,\u001b[0m\u001b[0mbinaryMetadataFile\u001b[0m\u001b[0;34m)\u001b[0m\u001b[0;34m\u001b[0m\u001b[0;34m\u001b[0m\u001b[0m\n\u001b[0m\u001b[1;32m      5\u001b[0m \u001b[0mjokerRVData\u001b[0m\u001b[0;34m=\u001b[0m\u001b[0mgetJokerRVData\u001b[0m\u001b[0;34m(\u001b[0m\u001b[0mapogeeData\u001b[0m\u001b[0;34m,\u001b[0m\u001b[0msourceData\u001b[0m\u001b[0;34m)\u001b[0m\u001b[0;34m\u001b[0m\u001b[0;34m\u001b[0m\u001b[0m\n\u001b[1;32m      6\u001b[0m \u001b[0mlsPeriodogramData\u001b[0m\u001b[0;34m=\u001b[0m\u001b[0mgetLsPeriodogram\u001b[0m\u001b[0;34m(\u001b[0m\u001b[0msourceData\u001b[0m\u001b[0;34m)\u001b[0m\u001b[0;34m\u001b[0m\u001b[0;34m\u001b[0m\u001b[0m\n",
      "\u001b[0;32m/var/folders/gp/tcqhw2_d0pd5bc11n74f4whw0000gn/T/ipykernel_27004/2072917339.py\u001b[0m in \u001b[0;36mgetStarData\u001b[0;34m(apogeeFileName, tessFileName, binariesFile)\u001b[0m\n\u001b[1;32m      1\u001b[0m \u001b[0;32mdef\u001b[0m \u001b[0mgetStarData\u001b[0m\u001b[0;34m(\u001b[0m\u001b[0mapogeeFileName\u001b[0m\u001b[0;34m,\u001b[0m\u001b[0mtessFileName\u001b[0m\u001b[0;34m,\u001b[0m\u001b[0mbinariesFile\u001b[0m\u001b[0;34m)\u001b[0m\u001b[0;34m:\u001b[0m\u001b[0;34m\u001b[0m\u001b[0;34m\u001b[0m\u001b[0m\n\u001b[1;32m      2\u001b[0m   \u001b[0;31m# APOGEE Visits Data\u001b[0m\u001b[0;34m\u001b[0m\u001b[0;34m\u001b[0m\u001b[0;34m\u001b[0m\u001b[0m\n\u001b[0;32m----> 3\u001b[0;31m   \u001b[0mapogeeVisits\u001b[0m\u001b[0;34m=\u001b[0m\u001b[0mat\u001b[0m\u001b[0;34m.\u001b[0m\u001b[0mTable\u001b[0m\u001b[0;34m.\u001b[0m\u001b[0mread\u001b[0m\u001b[0;34m(\u001b[0m\u001b[0mapogeeFileName\u001b[0m\u001b[0;34m)\u001b[0m \u001b[0;31m# import file\u001b[0m\u001b[0;34m\u001b[0m\u001b[0;34m\u001b[0m\u001b[0m\n\u001b[0m\u001b[1;32m      4\u001b[0m   \u001b[0;31m# Binary Catalog\u001b[0m\u001b[0;34m\u001b[0m\u001b[0;34m\u001b[0m\u001b[0;34m\u001b[0m\u001b[0m\n\u001b[1;32m      5\u001b[0m   \u001b[0mbinaries\u001b[0m\u001b[0;34m=\u001b[0m\u001b[0mat\u001b[0m\u001b[0;34m.\u001b[0m\u001b[0mQTable\u001b[0m\u001b[0;34m.\u001b[0m\u001b[0mread\u001b[0m\u001b[0;34m(\u001b[0m\u001b[0mbinariesFile\u001b[0m\u001b[0;34m)\u001b[0m \u001b[0;31m# import file\u001b[0m\u001b[0;34m\u001b[0m\u001b[0;34m\u001b[0m\u001b[0m\n",
      "\u001b[0;32m~/opt/anaconda3/lib/python3.7/site-packages/astropy/table/connect.py\u001b[0m in \u001b[0;36m__call__\u001b[0;34m(self, *args, **kwargs)\u001b[0m\n\u001b[1;32m     59\u001b[0m         \u001b[0mdescriptions\u001b[0m \u001b[0;34m=\u001b[0m \u001b[0mkwargs\u001b[0m\u001b[0;34m.\u001b[0m\u001b[0mpop\u001b[0m\u001b[0;34m(\u001b[0m\u001b[0;34m'descriptions'\u001b[0m\u001b[0;34m,\u001b[0m \u001b[0;32mNone\u001b[0m\u001b[0;34m)\u001b[0m\u001b[0;34m\u001b[0m\u001b[0;34m\u001b[0m\u001b[0m\n\u001b[1;32m     60\u001b[0m \u001b[0;34m\u001b[0m\u001b[0m\n\u001b[0;32m---> 61\u001b[0;31m         \u001b[0mout\u001b[0m \u001b[0;34m=\u001b[0m \u001b[0mregistry\u001b[0m\u001b[0;34m.\u001b[0m\u001b[0mread\u001b[0m\u001b[0;34m(\u001b[0m\u001b[0mcls\u001b[0m\u001b[0;34m,\u001b[0m \u001b[0;34m*\u001b[0m\u001b[0margs\u001b[0m\u001b[0;34m,\u001b[0m \u001b[0;34m**\u001b[0m\u001b[0mkwargs\u001b[0m\u001b[0;34m)\u001b[0m\u001b[0;34m\u001b[0m\u001b[0;34m\u001b[0m\u001b[0m\n\u001b[0m\u001b[1;32m     62\u001b[0m \u001b[0;34m\u001b[0m\u001b[0m\n\u001b[1;32m     63\u001b[0m         \u001b[0;31m# For some readers (e.g., ascii.ecsv), the returned `out` class is not\u001b[0m\u001b[0;34m\u001b[0m\u001b[0;34m\u001b[0m\u001b[0;34m\u001b[0m\u001b[0m\n",
      "\u001b[0;32m~/opt/anaconda3/lib/python3.7/site-packages/astropy/io/registry.py\u001b[0m in \u001b[0;36mread\u001b[0;34m(cls, format, cache, *args, **kwargs)\u001b[0m\n\u001b[1;32m    510\u001b[0m                     \u001b[0;32mtry\u001b[0m\u001b[0;34m:\u001b[0m\u001b[0;34m\u001b[0m\u001b[0;34m\u001b[0m\u001b[0m\n\u001b[1;32m    511\u001b[0m                         \u001b[0mctx\u001b[0m \u001b[0;34m=\u001b[0m \u001b[0mget_readable_fileobj\u001b[0m\u001b[0;34m(\u001b[0m\u001b[0margs\u001b[0m\u001b[0;34m[\u001b[0m\u001b[0;36m0\u001b[0m\u001b[0;34m]\u001b[0m\u001b[0;34m,\u001b[0m \u001b[0mencoding\u001b[0m\u001b[0;34m=\u001b[0m\u001b[0;34m'binary'\u001b[0m\u001b[0;34m,\u001b[0m \u001b[0mcache\u001b[0m\u001b[0;34m=\u001b[0m\u001b[0mcache\u001b[0m\u001b[0;34m)\u001b[0m\u001b[0;34m\u001b[0m\u001b[0;34m\u001b[0m\u001b[0m\n\u001b[0;32m--> 512\u001b[0;31m                         \u001b[0mfileobj\u001b[0m \u001b[0;34m=\u001b[0m \u001b[0mctx\u001b[0m\u001b[0;34m.\u001b[0m\u001b[0m__enter__\u001b[0m\u001b[0;34m(\u001b[0m\u001b[0;34m)\u001b[0m\u001b[0;34m\u001b[0m\u001b[0;34m\u001b[0m\u001b[0m\n\u001b[0m\u001b[1;32m    513\u001b[0m                     \u001b[0;32mexcept\u001b[0m \u001b[0mOSError\u001b[0m\u001b[0;34m:\u001b[0m\u001b[0;34m\u001b[0m\u001b[0;34m\u001b[0m\u001b[0m\n\u001b[1;32m    514\u001b[0m                         \u001b[0;32mraise\u001b[0m\u001b[0;34m\u001b[0m\u001b[0;34m\u001b[0m\u001b[0m\n",
      "\u001b[0;32m~/opt/anaconda3/lib/python3.7/contextlib.py\u001b[0m in \u001b[0;36m__enter__\u001b[0;34m(self)\u001b[0m\n\u001b[1;32m    110\u001b[0m         \u001b[0;32mdel\u001b[0m \u001b[0mself\u001b[0m\u001b[0;34m.\u001b[0m\u001b[0margs\u001b[0m\u001b[0;34m,\u001b[0m \u001b[0mself\u001b[0m\u001b[0;34m.\u001b[0m\u001b[0mkwds\u001b[0m\u001b[0;34m,\u001b[0m \u001b[0mself\u001b[0m\u001b[0;34m.\u001b[0m\u001b[0mfunc\u001b[0m\u001b[0;34m\u001b[0m\u001b[0;34m\u001b[0m\u001b[0m\n\u001b[1;32m    111\u001b[0m         \u001b[0;32mtry\u001b[0m\u001b[0;34m:\u001b[0m\u001b[0;34m\u001b[0m\u001b[0;34m\u001b[0m\u001b[0m\n\u001b[0;32m--> 112\u001b[0;31m             \u001b[0;32mreturn\u001b[0m \u001b[0mnext\u001b[0m\u001b[0;34m(\u001b[0m\u001b[0mself\u001b[0m\u001b[0;34m.\u001b[0m\u001b[0mgen\u001b[0m\u001b[0;34m)\u001b[0m\u001b[0;34m\u001b[0m\u001b[0;34m\u001b[0m\u001b[0m\n\u001b[0m\u001b[1;32m    113\u001b[0m         \u001b[0;32mexcept\u001b[0m \u001b[0mStopIteration\u001b[0m\u001b[0;34m:\u001b[0m\u001b[0;34m\u001b[0m\u001b[0;34m\u001b[0m\u001b[0m\n\u001b[1;32m    114\u001b[0m             \u001b[0;32mraise\u001b[0m \u001b[0mRuntimeError\u001b[0m\u001b[0;34m(\u001b[0m\u001b[0;34m\"generator didn't yield\"\u001b[0m\u001b[0;34m)\u001b[0m \u001b[0;32mfrom\u001b[0m \u001b[0;32mNone\u001b[0m\u001b[0;34m\u001b[0m\u001b[0;34m\u001b[0m\u001b[0m\n",
      "\u001b[0;32m~/opt/anaconda3/lib/python3.7/site-packages/astropy/utils/data.py\u001b[0m in \u001b[0;36mget_readable_fileobj\u001b[0;34m(name_or_obj, encoding, cache, show_progress, remote_timeout, sources, http_headers)\u001b[0m\n\u001b[1;32m    260\u001b[0m                 \u001b[0mtimeout\u001b[0m\u001b[0;34m=\u001b[0m\u001b[0mremote_timeout\u001b[0m\u001b[0;34m,\u001b[0m \u001b[0msources\u001b[0m\u001b[0;34m=\u001b[0m\u001b[0msources\u001b[0m\u001b[0;34m,\u001b[0m\u001b[0;34m\u001b[0m\u001b[0;34m\u001b[0m\u001b[0m\n\u001b[1;32m    261\u001b[0m                 http_headers=http_headers)\n\u001b[0;32m--> 262\u001b[0;31m         \u001b[0mfileobj\u001b[0m \u001b[0;34m=\u001b[0m \u001b[0mio\u001b[0m\u001b[0;34m.\u001b[0m\u001b[0mFileIO\u001b[0m\u001b[0;34m(\u001b[0m\u001b[0mname_or_obj\u001b[0m\u001b[0;34m,\u001b[0m \u001b[0;34m'r'\u001b[0m\u001b[0;34m)\u001b[0m\u001b[0;34m\u001b[0m\u001b[0;34m\u001b[0m\u001b[0m\n\u001b[0m\u001b[1;32m    263\u001b[0m         \u001b[0;32mif\u001b[0m \u001b[0mis_url\u001b[0m \u001b[0;32mand\u001b[0m \u001b[0;32mnot\u001b[0m \u001b[0mcache\u001b[0m\u001b[0;34m:\u001b[0m\u001b[0;34m\u001b[0m\u001b[0;34m\u001b[0m\u001b[0m\n\u001b[1;32m    264\u001b[0m             \u001b[0mdelete_fds\u001b[0m\u001b[0;34m.\u001b[0m\u001b[0mappend\u001b[0m\u001b[0;34m(\u001b[0m\u001b[0mfileobj\u001b[0m\u001b[0;34m)\u001b[0m\u001b[0;34m\u001b[0m\u001b[0;34m\u001b[0m\u001b[0m\n",
      "\u001b[0;31mFileNotFoundError\u001b[0m: [Errno 2] No such file or directory: 'Desktop/theJoker-Research/Data/allVisit-r12-l33.fits'"
     ]
    }
   ],
   "source": [
    "apogeeFile='theJoker-Research/Data/allVisit-r12-l33.fits'\n",
    "tessFile='theJoker-Research/Data/allStarLite-r12-l33-tess_2min-max_20arcsec-xm.fits'\n",
    "binaryMetadataFile='theJoker-Research/Data/allStarLite-metadata.fits'\n",
    "apogeeData,sourceData=getStarData(apogeeFile,tessFile,binaryMetadataFile)\n",
    "jokerRVData=getJokerRVData(apogeeData,sourceData)\n",
    "lsPeriodogramData=getLsPeriodogram(sourceData)\n",
    "prior=tj.JokerPrior.default(P_min=0.2*u.day,P_max=25*u.day,sigma_K0=300*u.km/u.s,sigma_v=100*u.km/u.s)\n",
    "joker=tj.TheJoker(prior)\n",
    "priorSample=prior.sample(100_00)"
   ]
  },
  {
   "cell_type": "code",
   "execution_count": 15,
   "metadata": {
    "colab": {
     "base_uri": "https://localhost:8080/",
     "height": 1000
    },
    "id": "-sLlo_5NKv2k",
    "outputId": "3cfc58ac-5324-407e-f067-e204ba0e832a"
   },
   "outputs": [
    {
     "ename": "NameError",
     "evalue": "name 'sourceData' is not defined",
     "output_type": "error",
     "traceback": [
      "\u001b[0;31m---------------------------------------------------------------------------\u001b[0m",
      "\u001b[0;31mNameError\u001b[0m                                 Traceback (most recent call last)",
      "\u001b[0;32m/var/folders/gp/tcqhw2_d0pd5bc11n74f4whw0000gn/T/ipykernel_24068/2448837249.py\u001b[0m in \u001b[0;36m<module>\u001b[0;34m\u001b[0m\n\u001b[0;32m----> 1\u001b[0;31m \u001b[0mgetPlots\u001b[0m\u001b[0;34m(\u001b[0m\u001b[0msourceData\u001b[0m\u001b[0;34m,\u001b[0m\u001b[0mjokerRVData\u001b[0m\u001b[0;34m,\u001b[0m\u001b[0mlsPeriodogramData\u001b[0m\u001b[0;34m,\u001b[0m\u001b[0mjoker\u001b[0m\u001b[0;34m,\u001b[0m\u001b[0mpriorSample\u001b[0m\u001b[0;34m)\u001b[0m\u001b[0;34m\u001b[0m\u001b[0;34m\u001b[0m\u001b[0m\n\u001b[0m",
      "\u001b[0;31mNameError\u001b[0m: name 'sourceData' is not defined"
     ]
    }
   ],
   "source": [
    "getPlots(sourceData,jokerRVData,lsPeriodogramData,joker,priorSample)"
   ]
  },
  {
   "cell_type": "code",
   "execution_count": null,
   "metadata": {
    "colab": {
     "base_uri": "https://localhost:8080/"
    },
    "id": "Q9tEgS5o_QSZ",
    "outputId": "4e124fca-da55-4a8b-ce74-68a554e271d2"
   },
   "outputs": [
    {
     "name": "stdout",
     "output_type": "stream",
     "text": [
      "<QTable length=5>\n",
      "              name                dtype   unit     class     n_bad\n",
      "-------------------------------- ------- ------ ------------ -----\n",
      "                       APOGEE_ID bytes18              Column     0\n",
      "                        n_visits   int64        MaskedColumn     0\n",
      "                           MAP_P float64      d     Quantity     0\n",
      "                       MAP_P_err float64      d     Quantity     5\n",
      "                           MAP_e float64            Quantity     0\n",
      "                       MAP_e_err float64            Quantity     5\n",
      "                       MAP_omega float64    rad     Quantity     0\n",
      "                   MAP_omega_err float64    rad     Quantity     5\n",
      "                          MAP_M0 float64    rad     Quantity     0\n",
      "                      MAP_M0_err float64    rad     Quantity     5\n",
      "                           MAP_K float64 km / s     Quantity     0\n",
      "                       MAP_K_err float64 km / s     Quantity     5\n",
      "                          MAP_v0 float64 km / s     Quantity     0\n",
      "                      MAP_v0_err float64 km / s     Quantity     5\n",
      "                           MAP_s float64 km / s     Quantity     0\n",
      "                       MAP_s_err float64 km / s     Quantity     5\n",
      "                         t0_bmjd float64              Column     0\n",
      "                        baseline float64      d     Quantity     0\n",
      "               MAP_ln_likelihood float64            Quantity     0\n",
      "                    MAP_ln_prior float64            Quantity     0\n",
      "max_unmarginalized_ln_likelihood float64              Column     0\n",
      "                   max_phase_gap float64            Quantity     0\n",
      "                 periods_spanned float64              Column     0\n",
      "                  phase_coverage float64              Column     0\n",
      "       phase_coverage_per_period   int64        MaskedColumn     0\n",
      "                        unimodal    bool              Column     0\n",
      "                 joker_completed    bool              Column     0\n",
      "                  mcmc_completed    bool              Column     0\n",
      "                    mcmc_success    bool              Column     0\n",
      "                gelman_rubin_max float64        MaskedColumn     5\n",
      "          constant_ln_likelihood float64              Column     0\n",
      "   robust_constant_ln_likelihood float64              Column     0\n",
      "                  binary_catalog    bool              Column     0\n",
      "                           TICID   int64              Column     0\n",
      "                      separation float64    deg        Angle     0\n",
      "\n"
     ]
    }
   ],
   "source": [
    "# Testing\n",
    "# print(len(apogeeData))\n",
    "# print(len(sourceData))\n",
    "# print(apogeeData.info)\n",
    "# print(sourceData.info)\n",
    "# print(sourceData)\n",
    "# lcData=getLightCurveData(sourceData)\n",
    "# print(sourceData[0]['MAP_P']/u.d)\n",
    "# print(lsPeriodogramData['Frequency'])\n",
    "# print(lsPeriodogramData['Power'])"
   ]
  },
  {
   "cell_type": "code",
   "execution_count": null,
   "metadata": {
    "id": "9VQwEkmNC7Wd"
   },
   "outputs": [],
   "source": []
  }
 ],
 "metadata": {
  "colab": {
   "name": "theJoker-Test-PowVsFreq-EccenVsP.ipynb",
   "provenance": []
  },
  "kernelspec": {
   "display_name": "Python 3 (ipykernel)",
   "language": "python",
   "name": "python3"
  },
  "language_info": {
   "codemirror_mode": {
    "name": "ipython",
    "version": 3
   },
   "file_extension": ".py",
   "mimetype": "text/x-python",
   "name": "python",
   "nbconvert_exporter": "python",
   "pygments_lexer": "ipython3",
   "version": "3.7.11"
  },
  "toc-showcode": false
 },
 "nbformat": 4,
 "nbformat_minor": 4
}
