{
 "cells": [
  {
   "cell_type": "code",
   "execution_count": 1,
   "metadata": {
    "colab": {
     "base_uri": "https://localhost:8080/"
    },
    "id": "N5p0ysROxwjH",
    "outputId": "b67ac7e7-83e2-435f-a70d-82866a8c5f8f"
   },
   "outputs": [],
   "source": [
    "# imports\n",
    "import astropy as ap\n",
    "from astropy.io import ascii\n",
    "from astropy.io import fits\n",
    "from astropy import units as u\n",
    "import astropy.table as at\n",
    "from astropy.time import Time\n",
    "import astropy.coordinates as coords \n",
    "import matplotlib.pyplot as plt\n",
    "import pandas as pd \n",
    "import numpy as np\n",
    "import lightkurve as lk\n",
    "from fpdf import FPDF\n",
    "import thejoker as tj\n",
    "from astropy.timeseries import LombScargle"
   ]
  },
  {
   "cell_type": "code",
   "execution_count": 2,
   "metadata": {
    "id": "M88ZKo_g3ERB"
   },
   "outputs": [],
   "source": [
    "def getStarData(apogeeFileName,tessFileName,binariesFile):\n",
    "  # APOGEE Visits Data\n",
    "  apogeeVisits=at.Table.read(apogeeFileName) # import file\n",
    "  # Binary Catalog\n",
    "  binaries=at.QTable.read(binariesFile) # import file\n",
    "  # Tess Data\n",
    "  tessData=at.QTable.read(tessFileName) # import file\n",
    "  tessData=tessData[tessData['separation']<2.*u.arcsec] # separation Filter\n",
    "  # join tables\n",
    "  sources=at.join(binaries,tessData,keys='APOGEE_ID')\n",
    "  sources=sources[0:10] # Limits stars for testing .py version will run all stars\n",
    "  return apogeeVisits, sources\n"
   ]
  },
  {
   "cell_type": "code",
   "execution_count": 3,
   "metadata": {
    "id": "jJj_PqyV4-Fo"
   },
   "outputs": [],
   "source": [
    "def getJokerRVData(allVisits,sources):\n",
    "  data=[]\n",
    "  for row in sources:\n",
    "    visits=allVisits[allVisits['APOGEE_ID']==row['APOGEE_ID']]\n",
    "    datum=tj.RVData(Time(visits['JD'],format='jd'),\n",
    "                    rv=visits['VHELIO']*u.km/u.s,\n",
    "                    rv_err=visits['VRELERR']*u.km/u.s)\n",
    "    data.append(datum)\n",
    "  return data"
   ]
  },
  {
   "cell_type": "code",
   "execution_count": 4,
   "metadata": {
    "id": "5Yzvejj7dY0m"
   },
   "outputs": [],
   "source": [
    "def getLightCurveData(sources):\n",
    "  ticList=[]\n",
    "  timeList=[]\n",
    "  fluxList=[]\n",
    "  fluxErrList=[]\n",
    "  for tic in sources['TICID']:\n",
    "    ticStr='TIC'+str(tic)\n",
    "    ticList.append(ticStr)\n",
    "    print(ticStr)\n",
    "    try:\n",
    "      lcCollection=lk.search_lightcurve(target=ticStr,mission='TESS').download_all()\n",
    "      lcStitch=lcCollection.stitch().remove_nans().remove_outliers()\n",
    "      time=lcStitch.time.value\n",
    "      flux=1e3*(lcStitch.flux-1)\n",
    "      fluxErr=1e3*(lcStitch.flux_err)\n",
    "      time=np.ascontiguousarray(time)\n",
    "      flux=np.ascontiguousarray(flux,dtype=np.float64)\n",
    "      timeList.append(time)\n",
    "      fluxList.append(flux)\n",
    "      fluxErrList.append(fluxErr)\n",
    "    except: #still having that weird bug with lightkurve hopefully this works as a temporary fix\n",
    "      print('Probably MergeConflictError and/or TableMergeError')\n",
    "      timeList.append([])\n",
    "      fluxList.append([])\n",
    "      fluxErrList.append([])\n",
    "      pass\n",
    "    lcDataTable=at.QTable([ticList,timeList,fluxList,fluxErrList],names=('TICID',\n",
    "                                                                       'Time',\n",
    "                                                                       'Flux',\n",
    "                                                                       'Flux_err'))\n",
    "  return lcDataTable"
   ]
  },
  {
   "cell_type": "code",
   "execution_count": 5,
   "metadata": {
    "id": "zu5r4eLQ9Tj4"
   },
   "outputs": [],
   "source": [
    "def getLsPeriodogram(sources):\n",
    "    freqList=[]\n",
    "    powList=[]\n",
    "    lcData=getLightCurveData(sources)\n",
    "    for i in range(len(sources['MAP_P'])):\n",
    "        period=int(sources[i]['MAP_P']/u.d)\n",
    "        timeViaLC=lcData[i]['Time']\n",
    "        fluxViaLC=lcData[i]['Flux']\n",
    "        freq,pow=LombScargle(timeViaLC,fluxViaLC).autopower(minimum_frequency=(.1/period),maximum_frequency=(10./period))\n",
    "        freqList.append(freq)\n",
    "        powList.append(pow)\n",
    "    periodogramDataTable=at.QTable([freqList,powList],names=('Frequency','Power'))\n",
    "    return periodogramDataTable\n",
    "    \n"
   ]
  },
  {
   "cell_type": "code",
   "execution_count": 6,
   "metadata": {
    "id": "C9HR9d6jl1rR"
   },
   "outputs": [],
   "source": [
    "def getPlots(sources,jData,periodogram,joker,prior_sample):\n",
    "  pdf=FPDF(unit='in',format=[8.5,11])\n",
    "  for i in range(len(sources['APOGEE_ID'])):\n",
    "    # Titles\n",
    "    supTitle='APOGEE ID: '+str(sources[i]['APOGEE_ID']+' | TIC ID: TIC'+str(sources[i]['TICID']))\n",
    "    plot1Title='Eccentricity vs Period'\n",
    "    plot2Title='Lomb Scargle Periodogram'\n",
    "    # Figure Creation\n",
    "    fig,(ax1,ax2)=plt.subplots(nrows=2,ncols=1,figsize=(20,10),facecolor='w')\n",
    "    fig.suptitle(supTitle)\n",
    "    # plot 1\n",
    "    sample=joker.rejection_sample(jData[i],prior_sample)\n",
    "    ax1.plot(sample['P'],sample['e'],'k.')\n",
    "    ax1.set_xlabel('Period (d)')\n",
    "    ax1.set_ylabel('Eccentricity')\n",
    "    ax1.set_title(plot1Title)\n",
    "    # Plot 2\n",
    "    freq=periodogram[i]['Frequency']\n",
    "    pow=periodogram[i]['Power']\n",
    "    ax2.plot(freq,pow)\n",
    "    ax2.set_xlabel('Frequency (1/d)')\n",
    "    ax2.set_ylabel('Power')\n",
    "    ax2.set_title(plot2Title)\n",
    "\n",
    "    # save figure\n",
    "    pngPath='PlotsForJupyter/NotebookPeriodogram_EccenPeriod_'+str(sources[i]['APOGEE_ID'])+'.png'\n",
    "    fig.savefig(pngPath,dpi=150)\n",
    "    pdf.add_page()\n",
    "    pdf.image(pngPath,w=8,h=9.6)\n",
    "    print(supTitle+'DONE')\n",
    "    pdf.output('PlotsForJupyter/NotebookAll_Periodogram_EccenPeriod_Plots.pdf','F')\n",
    "  print('PLOTS SAVED AS PDF')"
   ]
  },
  {
   "cell_type": "code",
   "execution_count": 7,
   "metadata": {
    "colab": {
     "base_uri": "https://localhost:8080/"
    },
    "id": "wKoquywN46FU",
    "outputId": "36f3f01a-7697-4345-b565-4d2041191c03"
   },
   "outputs": [
    {
     "name": "stdout",
     "output_type": "stream",
     "text": [
      "TIC388602672\n"
     ]
    },
    {
     "name": "stderr",
     "output_type": "stream",
     "text": [
      "/Users/jonahgoldfine/opt/anaconda3/lib/python3.7/site-packages/lightkurve/collections.py:214: LightkurveWarning: The following columns will be excluded from stitching because the column types are incompatible: {'sap_flux', 'sap_bkg', 'sap_bkg_err'}\n",
      "  LightkurveWarning,\n"
     ]
    },
    {
     "name": "stdout",
     "output_type": "stream",
     "text": [
      "TIC257487686\n"
     ]
    },
    {
     "name": "stderr",
     "output_type": "stream",
     "text": [
      "/Users/jonahgoldfine/opt/anaconda3/lib/python3.7/site-packages/astropy/units/quantity.py:378: VisibleDeprecationWarning: Creating an ndarray from ragged nested sequences (which is a list-or-tuple of lists-or-tuples-or ndarrays with different lengths or shapes) is deprecated. If you meant to do this, you must specify 'dtype=object' when creating the ndarray.\n",
      "  subok=True, ndmin=ndmin)\n"
     ]
    },
    {
     "name": "stdout",
     "output_type": "stream",
     "text": [
      "TIC257501815\n"
     ]
    },
    {
     "name": "stderr",
     "output_type": "stream",
     "text": [
      "/Users/jonahgoldfine/opt/anaconda3/lib/python3.7/site-packages/astropy/units/quantity.py:378: VisibleDeprecationWarning: Creating an ndarray from ragged nested sequences (which is a list-or-tuple of lists-or-tuples-or ndarrays with different lengths or shapes) is deprecated. If you meant to do this, you must specify 'dtype=object' when creating the ndarray.\n",
      "  subok=True, ndmin=ndmin)\n"
     ]
    },
    {
     "name": "stdout",
     "output_type": "stream",
     "text": [
      "TIC257501838\n"
     ]
    },
    {
     "name": "stderr",
     "output_type": "stream",
     "text": [
      "/Users/jonahgoldfine/opt/anaconda3/lib/python3.7/site-packages/astropy/units/quantity.py:378: VisibleDeprecationWarning: Creating an ndarray from ragged nested sequences (which is a list-or-tuple of lists-or-tuples-or ndarrays with different lengths or shapes) is deprecated. If you meant to do this, you must specify 'dtype=object' when creating the ndarray.\n",
      "  subok=True, ndmin=ndmin)\n"
     ]
    },
    {
     "name": "stdout",
     "output_type": "stream",
     "text": [
      "TIC293219556\n"
     ]
    },
    {
     "name": "stderr",
     "output_type": "stream",
     "text": [
      "/Users/jonahgoldfine/opt/anaconda3/lib/python3.7/site-packages/astropy/units/quantity.py:378: VisibleDeprecationWarning: Creating an ndarray from ragged nested sequences (which is a list-or-tuple of lists-or-tuples-or ndarrays with different lengths or shapes) is deprecated. If you meant to do this, you must specify 'dtype=object' when creating the ndarray.\n",
      "  subok=True, ndmin=ndmin)\n"
     ]
    },
    {
     "name": "stdout",
     "output_type": "stream",
     "text": [
      "TIC300943035\n"
     ]
    },
    {
     "name": "stderr",
     "output_type": "stream",
     "text": [
      "/Users/jonahgoldfine/opt/anaconda3/lib/python3.7/site-packages/astropy/units/quantity.py:378: VisibleDeprecationWarning: Creating an ndarray from ragged nested sequences (which is a list-or-tuple of lists-or-tuples-or ndarrays with different lengths or shapes) is deprecated. If you meant to do this, you must specify 'dtype=object' when creating the ndarray.\n",
      "  subok=True, ndmin=ndmin)\n"
     ]
    },
    {
     "name": "stdout",
     "output_type": "stream",
     "text": [
      "TIC300943055\n"
     ]
    },
    {
     "name": "stderr",
     "output_type": "stream",
     "text": [
      "/Users/jonahgoldfine/opt/anaconda3/lib/python3.7/site-packages/astropy/units/quantity.py:378: VisibleDeprecationWarning: Creating an ndarray from ragged nested sequences (which is a list-or-tuple of lists-or-tuples-or ndarrays with different lengths or shapes) is deprecated. If you meant to do this, you must specify 'dtype=object' when creating the ndarray.\n",
      "  subok=True, ndmin=ndmin)\n"
     ]
    },
    {
     "name": "stdout",
     "output_type": "stream",
     "text": [
      "TIC293256256\n"
     ]
    },
    {
     "name": "stderr",
     "output_type": "stream",
     "text": [
      "/Users/jonahgoldfine/opt/anaconda3/lib/python3.7/site-packages/astropy/units/quantity.py:378: VisibleDeprecationWarning: Creating an ndarray from ragged nested sequences (which is a list-or-tuple of lists-or-tuples-or ndarrays with different lengths or shapes) is deprecated. If you meant to do this, you must specify 'dtype=object' when creating the ndarray.\n",
      "  subok=True, ndmin=ndmin)\n"
     ]
    },
    {
     "name": "stdout",
     "output_type": "stream",
     "text": [
      "TIC461356882\n"
     ]
    },
    {
     "name": "stderr",
     "output_type": "stream",
     "text": [
      "/Users/jonahgoldfine/opt/anaconda3/lib/python3.7/site-packages/lightkurve/collections.py:214: LightkurveWarning: The following columns will be excluded from stitching because the column types are incompatible: {'sap_flux', 'sap_bkg', 'sap_bkg_err'}\n",
      "  LightkurveWarning,\n",
      "/Users/jonahgoldfine/opt/anaconda3/lib/python3.7/site-packages/astropy/units/quantity.py:378: VisibleDeprecationWarning: Creating an ndarray from ragged nested sequences (which is a list-or-tuple of lists-or-tuples-or ndarrays with different lengths or shapes) is deprecated. If you meant to do this, you must specify 'dtype=object' when creating the ndarray.\n",
      "  subok=True, ndmin=ndmin)\n"
     ]
    },
    {
     "name": "stdout",
     "output_type": "stream",
     "text": [
      "TIC266968386\n"
     ]
    },
    {
     "name": "stderr",
     "output_type": "stream",
     "text": [
      "/Users/jonahgoldfine/opt/anaconda3/lib/python3.7/site-packages/lightkurve/collections.py:214: LightkurveWarning: The following columns will be excluded from stitching because the column types are incompatible: {'sap_flux', 'sap_bkg', 'sap_bkg_err'}\n",
      "  LightkurveWarning,\n",
      "/Users/jonahgoldfine/opt/anaconda3/lib/python3.7/site-packages/astropy/units/quantity.py:378: VisibleDeprecationWarning: Creating an ndarray from ragged nested sequences (which is a list-or-tuple of lists-or-tuples-or ndarrays with different lengths or shapes) is deprecated. If you meant to do this, you must specify 'dtype=object' when creating the ndarray.\n",
      "  subok=True, ndmin=ndmin)\n"
     ]
    }
   ],
   "source": [
    "apogeeFile='DataForJupyter/allVisit-r12-l33.fits'\n",
    "tessFile='DataForJupyter/allStarLite-r12-l33-tess_2min-max_20arcsec-xm.fits'\n",
    "binaryMetadataFile='DataForJupyter/allStarLite-metadata.fits'\n",
    "apogeeData,sourceData=getStarData(apogeeFile,tessFile,binaryMetadataFile)\n",
    "jokerRVData=getJokerRVData(apogeeData,sourceData)\n",
    "lsPeriodogramData=getLsPeriodogram(sourceData)\n",
    "prior=tj.JokerPrior.default(P_min=0.2*u.day,P_max=25*u.day,sigma_K0=300*u.km/u.s,sigma_v=100*u.km/u.s)\n",
    "joker=tj.TheJoker(prior)\n",
    "priorSample=prior.sample(100_00)"
   ]
  },
  {
   "cell_type": "code",
   "execution_count": null,
   "metadata": {
    "colab": {
     "base_uri": "https://localhost:8080/",
     "height": 1000
    },
    "id": "-sLlo_5NKv2k",
    "outputId": "3cfc58ac-5324-407e-f067-e204ba0e832a"
   },
   "outputs": [
    {
     "name": "stdout",
     "output_type": "stream",
     "text": [
      "APOGEE ID: 2M00014989+8003031 | TIC ID: TIC388602672DONE\n",
      "APOGEE ID: 2M00015793+0007429 | TIC ID: TIC257487686DONE\n",
      "APOGEE ID: 2M00020618+0030136 | TIC ID: TIC257501815DONE\n",
      "APOGEE ID: 2M00020648+0024553 | TIC ID: TIC257501838DONE\n",
      "APOGEE ID: 2M00055366+0032349 | TIC ID: TIC293219556DONE\n",
      "APOGEE ID: 2M00065352+0005222 | TIC ID: TIC300943035DONE\n",
      "APOGEE ID: 2M00065839-0003437 | TIC ID: TIC300943055DONE\n",
      "APOGEE ID: 2M00070793+0102473 | TIC ID: TIC293256256DONE\n",
      "APOGEE ID: 2M00100420+6728110 | TIC ID: TIC461356882DONE\n"
     ]
    }
   ],
   "source": [
    "getPlots(sourceData,jokerRVData,lsPeriodogramData,joker,priorSample)"
   ]
  },
  {
   "cell_type": "code",
   "execution_count": null,
   "metadata": {
    "colab": {
     "base_uri": "https://localhost:8080/"
    },
    "id": "Q9tEgS5o_QSZ",
    "outputId": "4e124fca-da55-4a8b-ce74-68a554e271d2"
   },
   "outputs": [],
   "source": [
    "# Testing\n",
    "# print(len(apogeeData))\n",
    "# print(len(sourceData))\n",
    "# print(apogeeData.info)\n",
    "# print(sourceData.info)\n",
    "# print(sourceData)\n",
    "# lcData=getLightCurveData(sourceData)\n",
    "# print(sourceData[0]['MAP_P']/u.d)\n",
    "# print(lsPeriodogramData['Frequency'])\n",
    "# print(lsPeriodogramData['Power'])"
   ]
  },
  {
   "cell_type": "code",
   "execution_count": null,
   "metadata": {
    "id": "9VQwEkmNC7Wd"
   },
   "outputs": [],
   "source": []
  }
 ],
 "metadata": {
  "colab": {
   "name": "theJoker-Test-PowVsFreq-EccenVsP.ipynb",
   "provenance": []
  },
  "kernelspec": {
   "display_name": "Python 3 (ipykernel)",
   "language": "python",
   "name": "python3"
  },
  "language_info": {
   "codemirror_mode": {
    "name": "ipython",
    "version": 3
   },
   "file_extension": ".py",
   "mimetype": "text/x-python",
   "name": "python",
   "nbconvert_exporter": "python",
   "pygments_lexer": "ipython3",
   "version": "3.7.11"
  },
  "toc-showcode": false
 },
 "nbformat": 4,
 "nbformat_minor": 4
}
